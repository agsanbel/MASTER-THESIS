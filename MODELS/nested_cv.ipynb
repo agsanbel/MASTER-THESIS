{
 "cells": [
  {
   "cell_type": "code",
   "execution_count": null,
   "id": "affecting-breath",
   "metadata": {},
   "outputs": [],
   "source": [
    "# Required packages\n",
    "import random\n",
    "import pandas as pd\n",
    "import numpy as np\n",
    "from sklearn import svm, metrics, neighbors, linear_model\n",
    "from sklearn.model_selection import train_test_split, GridSearchCV, cross_val_score, KFold\n",
    "from sklearn.preprocessing import MinMaxScaler\n"
   ]
  },
  {
   "cell_type": "code",
   "execution_count": null,
   "id": "caroline-reminder",
   "metadata": {},
   "outputs": [],
   "source": [
    "# Load data\n",
    "s1 = pd.read_csv(\"cna_s1.csv\", index_col = 0)\n",
    "\n",
    "# Random state\n",
    "rs = 42"
   ]
  },
  {
   "cell_type": "code",
   "execution_count": null,
   "id": "ordered-mississippi",
   "metadata": {},
   "outputs": [],
   "source": [
    "# This could be interesting to change working directory\n",
    "#import os\n",
    "#print(os.getcwd())\n",
    "#os.chdir('/home/CNIO.ES/asanchezb/esophageous_cancer/intensities/')\n",
    "#print(os.getcwd())"
   ]
  },
  {
   "cell_type": "code",
   "execution_count": null,
   "id": "cloudy-thing",
   "metadata": {},
   "outputs": [],
   "source": [
    "# x and y split\n",
    "x = s1.iloc[:,:-1]\n",
    "y = s1.iloc[:,-1]\n",
    "\n",
    "# Scale data from 0 to 1\n",
    "scaler = MinMaxScaler()\n",
    "scaler.fit_transform(x)"
   ]
  },
  {
   "cell_type": "code",
   "execution_count": null,
   "id": "included-stewart",
   "metadata": {},
   "outputs": [],
   "source": [
    "# outer cv\n",
    "cv_outer = KFold(n_splits=5, shuffle=True, random_state=rs)"
   ]
  },
  {
   "cell_type": "markdown",
   "id": "arranged-emerald",
   "metadata": {},
   "source": [
    "### LINEAR REGRESSION ###"
   ]
  },
  {
   "cell_type": "code",
   "execution_count": null,
   "id": "beautiful-startup",
   "metadata": {},
   "outputs": [],
   "source": [
    "# results\n",
    "outer_results_ridge = []"
   ]
  },
  {
   "cell_type": "code",
   "execution_count": null,
   "id": "bearing-knowing",
   "metadata": {},
   "outputs": [],
   "source": [
    "# If you want tu use another metric, you must choose in sco other metric and in the performance metric\n",
    "for train_ix, test_ix in cv_outer.split(x):\n",
    "    \n",
    "    #split in test and training set\n",
    "    x_train, x_test = x.iloc[train_ix,:], x.iloc[test_ix,:]\n",
    "    y_train, y_test = y.iloc[train_ix], y.iloc[test_ix]\n",
    "    #inner cv\n",
    "    cv_inner = KFold(n_splits=3, shuffle=True, random_state=rs)\n",
    "    # model\n",
    "    model=linear_model.Ridge()\n",
    "    #parameters LM\n",
    "    par = dict()\n",
    "    par['alpha'] = np.arange(0,1,0.01)\n",
    "    #scoring\n",
    "    sco = 'r2'\n",
    "    # tuning of hyperparameters\n",
    "    search = GridSearchCV(model,par,scoring=sco,cv=cv_inner)\n",
    "    #result\n",
    "    result = search.fit(x_train,y_train)\n",
    "    # get the best model\n",
    "    best_model = result.best_estimator_\n",
    "    # prediction values about x test\n",
    "    yhat = best_model.predict(x_test)\n",
    "    #performance metric, accuracy\n",
    "    acc = metrics.r2_score(y_test,yhat)\n",
    "    outer_results_ridge.append(acc)\n",
    "    print('>metric=%.3f, train=%.3f, par=%s' % (acc, result.best_score_, result.best_params_))\n",
    "\n",
    "print('Metric: %.3f (%.3f)' % (np.mean(outer_results_ridge), np.std(outer_results_ridge)))"
   ]
  },
  {
   "cell_type": "markdown",
   "id": "infectious-arbitration",
   "metadata": {},
   "source": [
    "### SVM REGRESSION ###"
   ]
  },
  {
   "cell_type": "code",
   "execution_count": null,
   "id": "revised-southeast",
   "metadata": {},
   "outputs": [],
   "source": [
    "# results\n",
    "outer_results_svm = []"
   ]
  },
  {
   "cell_type": "code",
   "execution_count": null,
   "id": "robust-rainbow",
   "metadata": {},
   "outputs": [],
   "source": [
    "for train_ix, test_ix in cv_outer.split(x):\n",
    "    \n",
    "    #split in test and training set\n",
    "    x_train, x_test = x.iloc[train_ix,:], x.iloc[test_ix,:]\n",
    "    y_train, y_test = y.iloc[train_ix], y.iloc[test_ix]\n",
    "    #inner cv\n",
    "    cv_inner = KFold(n_splits=3, shuffle=True, random_state=rs)\n",
    "    # model\n",
    "    model=svm.SVR(kernel='rbf')\n",
    "    #parameters SVR\n",
    "    par = dict()\n",
    "    par['C'] = [1,10,100]\n",
    "    par['gamma'] = ['scale',0.001,0.01,0.1]\n",
    "    #scoring\n",
    "    sco = 'r2'\n",
    "    # tuning of hyperparameters\n",
    "    search = GridSearchCV(model,par,scoring=sco,cv=cv_inner)\n",
    "    #result\n",
    "    result = search.fit(x_train,y_train)\n",
    "    # get the best model\n",
    "    best_model = result.best_estimator_\n",
    "    # prediction values about x test\n",
    "    yhat = best_model.predict(x_test)\n",
    "    #performance metric, accuracy\n",
    "    acc = metrics.r2_score(y_test,yhat)\n",
    "    outer_results_svm.append(acc)\n",
    "    print('>metric=%.3f, train=%.3f, par=%s' % (acc, result.best_score_, result.best_params_))\n",
    "\n",
    "print('Metric: %.3f (%.3f)' % (np.mean(outer_results_svm), np.std(outer_results_svm)))"
   ]
  },
  {
   "cell_type": "markdown",
   "id": "artistic-diagram",
   "metadata": {},
   "source": [
    "### KNN REGRESSION ###"
   ]
  },
  {
   "cell_type": "code",
   "execution_count": null,
   "id": "classified-appointment",
   "metadata": {},
   "outputs": [],
   "source": [
    "# results\n",
    "outer_results_knn = []"
   ]
  },
  {
   "cell_type": "code",
   "execution_count": null,
   "id": "advanced-stability",
   "metadata": {},
   "outputs": [],
   "source": [
    "for train_ix, test_ix in cv_outer.split(x):\n",
    "    \n",
    "    #split in test and training set\n",
    "    x_train, x_test = x.iloc[train_ix,:], x.iloc[test_ix,:]\n",
    "    y_train, y_test = y.iloc[train_ix], y.iloc[test_ix]\n",
    "    #inner cv\n",
    "    cv_inner = KFold(n_splits=3, shuffle=True, random_state=rs)\n",
    "    # model\n",
    "    model=neighbors.KNeighborsRegressor()\n",
    "    #parameters knn\n",
    "    par = dict()\n",
    "    par['n_neighbors'] = np.arange(1,21,1)\n",
    "    par['p'] = np.arange(1,6,1)\n",
    "    #scoring\n",
    "    sco = 'r2'\n",
    "    # tuning of hyperparameters\n",
    "    search = GridSearchCV(model,par,scoring=sco,cv=cv_inner)\n",
    "    #result\n",
    "    result_knn = search.fit(x_train,y_train)\n",
    "    # get the best model\n",
    "    best_model = result.best_estimator_\n",
    "    # prediction values about x test\n",
    "    yhat = best_model.predict(x_test)\n",
    "    #performance metric, accuracy\n",
    "    acc = metrics.r2_score(y_test,yhat)\n",
    "    outer_results_knn.append(acc)\n",
    "    print('>metric=%.3f, train=%.3f, par=%s' % (acc, result_knn.best_score_, result_knn.best_params_))\n",
    "\n",
    "print('Metric: %.3f (%.3f)' % (np.mean(outer_results_knn), np.std(outer_results_knn)))"
   ]
  },
  {
   "cell_type": "markdown",
   "id": "sexual-baptist",
   "metadata": {},
   "source": [
    "### SUMMARY RESULTS R2 ###"
   ]
  },
  {
   "cell_type": "code",
   "execution_count": null,
   "id": "absent-flush",
   "metadata": {},
   "outputs": [],
   "source": [
    "print('Ridge: %.3f (%.3f)' % (np.mean(outer_results_ridge), np.std(outer_results_ridge)))\n",
    "print('SVM: %.3f (%.3f)' % (np.mean(outer_results_svm), np.std(outer_results_svm)))\n",
    "print('kNN: %.3f (%.3f)' % (np.mean(outer_results_knn), np.std(outer_results_knn)))"
   ]
  }
 ],
 "metadata": {
  "kernelspec": {
   "display_name": "Python 3",
   "language": "python",
   "name": "python3"
  },
  "language_info": {
   "codemirror_mode": {
    "name": "ipython",
    "version": 3
   },
   "file_extension": ".py",
   "mimetype": "text/x-python",
   "name": "python",
   "nbconvert_exporter": "python",
   "pygments_lexer": "ipython3",
   "version": "3.6.13"
  }
 },
 "nbformat": 4,
 "nbformat_minor": 5
}
